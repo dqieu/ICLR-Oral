{
 "cells": [
  {
   "metadata": {
    "ExecuteTime": {
     "end_time": "2025-05-09T21:08:59.468562Z",
     "start_time": "2025-05-09T21:08:59.248204Z"
    }
   },
   "cell_type": "code",
   "source": [
    "import pandas as pd\n",
    "\n",
    "# Read the CSV files\n",
    "iclr_df = pd.read_csv('papers_iclr_05092025.csv')\n",
    "neurips_df = pd.read_csv('papers_neurips_05092025.csv')"
   ],
   "id": "fbbbd5db42e6b21a",
   "outputs": [],
   "execution_count": 25
  },
  {
   "metadata": {
    "ExecuteTime": {
     "end_time": "2025-05-09T19:40:47.524332Z",
     "start_time": "2025-05-09T19:40:47.517547Z"
    }
   },
   "cell_type": "code",
   "source": [
    "def extract_id_from_url(url):\n",
    "    if pd.isna(url):\n",
    "        return None\n",
    "    if 'id=' in url:\n",
    "        return url.split('id=')[-1]\n",
    "    return None\n",
    "\n",
    "\n",
    "# Fill missing IDs for ICLR df\n",
    "iclr_df.loc[iclr_df['id'].isna(), 'id'] = iclr_df[iclr_df['id'].isna()].apply(\n",
    "    lambda x: extract_id_from_url(x['openreview_url']) if pd.notna(x['openreview_url'])\n",
    "    else extract_id_from_url(x['pdf_url']), axis=1\n",
    ")\n",
    "\n"
   ],
   "id": "3c7ab5bc8baa8fb5",
   "outputs": [],
   "execution_count": 2
  },
  {
   "metadata": {
    "ExecuteTime": {
     "end_time": "2025-05-09T19:40:51.700790Z",
     "start_time": "2025-05-09T19:40:51.696594Z"
    }
   },
   "cell_type": "code",
   "source": [
    "# Fill missing IDs for NeurIPS df\n",
    "neurips_df.loc[neurips_df['id'].isna(), 'id'] = neurips_df[neurips_df['id'].isna()].apply(\n",
    "    lambda x: extract_id_from_url(x['openreview_url']) if pd.notna(x['openreview_url'])\n",
    "    else extract_id_from_url(x['pdf_url']), axis=1\n",
    ")"
   ],
   "id": "316c923662e5742c",
   "outputs": [],
   "execution_count": 3
  },
  {
   "metadata": {
    "ExecuteTime": {
     "end_time": "2025-05-09T19:40:52.867365Z",
     "start_time": "2025-05-09T19:40:52.813666Z"
    }
   },
   "cell_type": "code",
   "source": [
    "# Save updated dataframes\n",
    "iclr_df.to_csv('papers_iclr_05092025.csv', index=False)\n",
    "neurips_df.to_csv('papers_neurips_05092025.csv', index=False)\n"
   ],
   "id": "7c4024c96b79ebfc",
   "outputs": [],
   "execution_count": 4
  },
  {
   "metadata": {
    "ExecuteTime": {
     "end_time": "2025-05-09T19:54:02.398774Z",
     "start_time": "2025-05-09T19:54:02.193228Z"
    }
   },
   "cell_type": "code",
   "source": [
    "import requests\n",
    "\n",
    "\n",
    "def get_paper_content(row):  # gotta run a few times since rate limit\n",
    "    paper_id = row['id']\n",
    "    year = row['year']\n",
    "    conf = row['publisher']\n",
    "\n",
    "    if conf == 'ICLR':\n",
    "        cutoff = 2023\n",
    "    elif conf == 'NeurIPS':\n",
    "        cutoff = 2022\n",
    "\n",
    "    if pd.isna(paper_id): return None\n",
    "\n",
    "\n",
    "    if year <= cutoff: base_url = \"https://api.openreview.net\"\n",
    "    else: base_url = \"https://api2.openreview.net\"\n",
    "\n",
    "\n",
    "    url = f\"{base_url}/notes?forum={paper_id}&{''}\"\n",
    "\n",
    "    try:\n",
    "        response = requests.get(url, timeout=5)\n",
    "        data = response.json()\n",
    "        dicts_with_content = [item['content'] for item in data['notes'] if isinstance(item, dict) and 'content' in item]\n",
    "\n",
    "        return dicts_with_content if len(dicts_with_content) > 0 else None\n",
    "    except:\n",
    "        return None\n"
   ],
   "id": "bb5cd7c4ee76b036",
   "outputs": [],
   "execution_count": 3
  },
  {
   "metadata": {
    "ExecuteTime": {
     "end_time": "2025-05-09T21:09:06.549779Z",
     "start_time": "2025-05-09T21:09:04.514568Z"
    }
   },
   "cell_type": "code",
   "source": [
    "# ICLR\n",
    "# Add forum_content column if it's null\n",
    "if 'forum_content' not in iclr_df.columns:\n",
    "    iclr_df['forum_content'] = iclr_df.apply(get_paper_content, axis=1)\n",
    "else:\n",
    "    iclr_df.loc[iclr_df['forum_content'].isnull(), 'forum_content'] = \\\n",
    "        iclr_df.loc[iclr_df['forum_content'].isnull()].apply(get_paper_content, axis=1)\n",
    "\n",
    "iclr_df.to_csv('papers_iclr_05092025.csv', index=False)"
   ],
   "id": "9a2a08bb1d5033bf",
   "outputs": [],
   "execution_count": 27
  },
  {
   "metadata": {
    "ExecuteTime": {
     "end_time": "2025-05-09T21:09:08.630768Z",
     "start_time": "2025-05-09T21:09:08.626151Z"
    }
   },
   "cell_type": "code",
   "source": "iclr_df.loc[iclr_df['forum_content'].isnull(), 'forum_content'].shape",
   "id": "9e7c264ada84f3b6",
   "outputs": [
    {
     "data": {
      "text/plain": [
       "(0,)"
      ]
     },
     "execution_count": 28,
     "metadata": {},
     "output_type": "execute_result"
    }
   ],
   "execution_count": 28
  },
  {
   "metadata": {
    "ExecuteTime": {
     "end_time": "2025-05-09T19:55:50.917421Z",
     "start_time": "2025-05-09T19:55:46.899276Z"
    }
   },
   "cell_type": "code",
   "source": [
    "if 'forum_content' not in neurips_df.columns:\n",
    "    neurips_df['forum_content'] = neurips_df.apply(get_paper_content, axis=1)\n",
    "else:\n",
    "    neurips_df.loc[neurips_df['forum_content'].isnull(), 'forum_content'] = \\\n",
    "        neurips_df.loc[neurips_df['forum_content'].isnull()].apply(get_paper_content, axis=1)\n",
    "neurips_df.to_csv('papers_neurips_05092025.csv', index=False)"
   ],
   "id": "3f51b2f79f047af6",
   "outputs": [],
   "execution_count": 5
  },
  {
   "metadata": {},
   "cell_type": "code",
   "outputs": [],
   "execution_count": null,
   "source": [
    "def get_forum_content(paper_id, year, conf):  # gotta run a few times since rate limit\n",
    "    if conf == 'ICLR':\n",
    "        cutoff = 2023\n",
    "    elif conf == 'NeurIPS':\n",
    "        cutoff = 2022\n",
    "\n",
    "    if pd.isna(paper_id): return None\n",
    "\n",
    "    further_edit = False\n",
    "\n",
    "    if year <= cutoff: #change this to 2022 for neurips, 2023 for iclr\n",
    "        base_url = \"https://api.openreview.net\"\n",
    "    else:\n",
    "        base_url = \"https://api2.openreview.net\"\n",
    "\n",
    "\n",
    "    url = f\"{base_url}/notes?forum={paper_id}&{''}\"\n",
    "\n",
    "    try:\n",
    "        response = requests.get(url, timeout=5)\n",
    "        data = response.json()\n",
    "        dicts_with_content = [item['content'] for item in data['notes'] if isinstance(item, dict) and 'content' in item]\n",
    "        return dicts_with_content if len(dicts_with_content) > 0 else None\n",
    "    except:\n",
    "        return None\n",
    "\n",
    "# print(get_forum_content('mSAKhLYLSsl', 2021, 'ICLR')) #v1\n",
    "print(get_forum_content('3f5PALef5B', 2024, 'ICLR'))"
   ],
   "id": "b7e2275c214a2b88"
  }
 ],
 "metadata": {
  "kernelspec": {
   "display_name": "Python 3",
   "language": "python",
   "name": "python3"
  },
  "language_info": {
   "codemirror_mode": {
    "name": "ipython",
    "version": 2
   },
   "file_extension": ".py",
   "mimetype": "text/x-python",
   "name": "python",
   "nbconvert_exporter": "python",
   "pygments_lexer": "ipython2",
   "version": "2.7.6"
  }
 },
 "nbformat": 4,
 "nbformat_minor": 5
}
